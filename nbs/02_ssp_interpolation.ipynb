{
 "cells": [
  {
   "cell_type": "markdown",
   "metadata": {},
   "source": [
    "# Module: Interpolation routines for SSP\n",
    "\n",
    "> Lookup table or interpolation for Simple stellar population (SSPs)"
   ]
  },
  {
   "cell_type": "code",
   "execution_count": null,
   "metadata": {},
   "outputs": [],
   "source": [
    "#| default_exp ssp_interpolation"
   ]
  },
  {
   "cell_type": "code",
   "execution_count": null,
   "metadata": {},
   "outputs": [],
   "source": [
    "#| hide\n",
    "from nbdev.showdoc import *"
   ]
  },
  {
   "cell_type": "code",
   "execution_count": null,
   "metadata": {},
   "outputs": [],
   "source": [
    "#| export\n",
    "import numpy as np"
   ]
  },
  {
   "cell_type": "code",
   "execution_count": null,
   "metadata": {},
   "outputs": [],
   "source": [
    "#| export\n",
    "\n",
    "def spec_ssp_lookup(age_hydro_i:np.float32=None, # Age of the HACC stellar particle\n",
    "             metal_hydro_i:np.float32=None, # Metallicity of the stellar particle\n",
    "             mass_hydro_i:np.float32=None, # Mass of the stellar particle\n",
    "             age_fsps:np.float32=None, # Ages in SPS library\n",
    "             z_padova_fsps:np.float32=None, # Metallicities in SPS library\n",
    "             spec_flux:np.array=None, # Stellar library SEDs \n",
    "             spec_wave:np.array=None, # Stellar library wavelengths\n",
    "            )-> tuple: # SSP Wavelength, SSP Luminosity \n",
    "    '''\n",
    "    Lookup table for finding the closest SPS entry to HACC SSP\n",
    "    '''\n",
    "    # https://ned.ipac.caltech.edu/level5/Sept14/Conroy/Conroy2.html\n",
    "    \n",
    "    age_index = np.argmin(np.abs(age_fsps-age_hydro_i))\n",
    "    met_index = np.argmin(np.abs(z_padova_fsps-metal_hydro_i))\n",
    "    # print(age_index, met_index)\n",
    "    \n",
    "    return spec_wave, mass_hydro_i*spec_flux[met_index, age_index]"
   ]
  },
  {
   "cell_type": "code",
   "execution_count": null,
   "metadata": {},
   "outputs": [],
   "source": [
    "#| hide\n",
    "\n",
    "import matplotlib.pylab as plt\n",
    "from hydro_colors.load_sps_library import *\n",
    "from hydro_colors.load_sim_stellar_catalog import *"
   ]
  },
  {
   "cell_type": "code",
   "execution_count": null,
   "metadata": {},
   "outputs": [
    {
     "name": "stdout",
     "output_type": "stream",
     "text": [
      "Library shape:  (22, 94, 1963)\n",
      "Wavelength shape:  (1963,)\n"
     ]
    },
    {
     "data": {
      "text/plain": [
       "Text(0.5, 0, 'age')"
      ]
     },
     "execution_count": null,
     "metadata": {},
     "output_type": "execute_result"
    },
    {
     "data": {
      "image/png": "[encoded data removed]",
      "text/plain": [
       "<Figure size 1008x216 with 2 Axes>"
      ]
     },
     "metadata": {
      "needs_background": "light"
     },
     "output_type": "display_data"
    }
   ],
   "source": [
    "#| hide\n",
    "\n",
    "spec_flux, spec_wave = load_fsps_spectral_library()\n",
    "\n",
    "age_fsps_gyr, Z_padova_fsps = load_fsps_age_metallicity()\n",
    "\n",
    "gal_tag, stellar_idx, metal_hydro, mass, age_hydro, x, y, z, vx, vy, vz = load_hacc_galaxy_data()\n",
    "\n",
    "\n",
    "f, a = plt.subplots(1,2, figsize=(14, 3))\n",
    "a[0].hist(metal_hydro, bins = 100, histtype='step', lw=5, label='Z=0 hydro');\n",
    "[a[0].axvline(_x, linewidth=1, color='r', alpha=0.5) for _x in Z_padova_fsps];\n",
    "a[0].legend()\n",
    "a[0].set_xlabel('log(z/zsol)')\n",
    "\n",
    "\n",
    "a[1].hist(age_hydro, bins = 100, histtype='step', lw=5, label='Z=0 hydro');\n",
    "[a[1].axvline(_x, linewidth=1, color='r', alpha=0.5) for _x in age_fsps_gyr];\n",
    "a[1].legend()\n",
    "a[1].set_xlabel('age')\n",
    "\n",
    "# plt.savefig('Plots/metal_mass_dist_hydro.png')"
   ]
  },
  {
   "cell_type": "code",
   "execution_count": null,
   "metadata": {},
   "outputs": [],
   "source": [
    "#| hide\n",
    "\n",
    "ssp_id = 10\n",
    "\n",
    "spec_wave_ssp, spec_flux_ssp = spec_ssp_lookup(age_hydro[ssp_id], \n",
    "             metal_hydro[ssp_id], \n",
    "             mass[ssp_id],\n",
    "             age_fsps_gyr,\n",
    "             Z_padova_fsps,\n",
    "             spec_flux,\n",
    "             spec_wave)"
   ]
  },
  {
   "cell_type": "code",
   "execution_count": null,
   "metadata": {},
   "outputs": [
    {
     "data": {
      "text/plain": [
       "(100.0, 10000.0)"
      ]
     },
     "execution_count": null,
     "metadata": {},
     "output_type": "execute_result"
    },
    {
     "data": {
      "image/png": "[encoded data removed]",
      "text/plain": [
       "<Figure size 432x288 with 1 Axes>"
      ]
     },
     "metadata": {
      "needs_background": "light"
     },
     "output_type": "display_data"
    }
   ],
   "source": [
    "#| hide\n",
    "\n",
    "plt.figure()\n",
    "plt.plot(spec_wave_ssp, spec_flux_ssp)\n",
    "plt.xscale('log')\n",
    "plt.yscale('log')\n",
    "plt.xlim(1e2, 1e4)"
   ]
  },
  {
   "cell_type": "code",
   "execution_count": null,
   "metadata": {},
   "outputs": [],
   "source": [
    "#| hide\n",
    "import nbdev; nbdev.nbdev_export()"
   ]
  },
  {
   "cell_type": "code",
   "execution_count": null,
   "metadata": {},
   "outputs": [],
   "source": []
  }
 ],
 "metadata": {
  "kernelspec": {
   "display_name": "python3",
   "language": "python",
   "name": "python3"
  }
 },
 "nbformat": 4,
 "nbformat_minor": 4
}
